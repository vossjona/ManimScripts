{
 "cells": [
  {
   "cell_type": "code",
   "execution_count": 1,
   "id": "f5a9296b",
   "metadata": {},
   "outputs": [
    {
     "data": {
      "text/html": [
       "<pre style=\"white-space:pre;overflow-x:auto;line-height:normal;font-family:Menlo,'DejaVu Sans Mono',consolas,'Courier New',monospace\">Manim Community <span style=\"color: #008000; text-decoration-color: #008000\">v0.16.0.post0</span>\n",
       "\n",
       "</pre>\n"
      ],
      "text/plain": [
       "Manim Community \u001b[32mv0.\u001b[0m\u001b[32m16.0\u001b[0m\u001b[32m.post0\u001b[0m\n",
       "\n"
      ]
     },
     "metadata": {},
     "output_type": "display_data"
    }
   ],
   "source": [
    "from manim import *"
   ]
  },
  {
   "cell_type": "code",
   "execution_count": 2,
   "id": "56fac39b",
   "metadata": {},
   "outputs": [],
   "source": [
    "#Define Text, Tex and MathTex new with BLACK as default color\n",
    "def myTex(*args, color=BLACK, **kwargs):\n",
    "    return Tex(*args, color=color, **kwargs)\n",
    "        \n",
    "def myMathTex(*args, color=BLACK, **kwargs):\n",
    "    return MathTex(*args, color=color, **kwargs)\n",
    "\n",
    "def myText(*args, color=BLACK, **kwargs):\n",
    "    return Text(*args, color=color, **kwargs)"
   ]
  },
  {
   "cell_type": "code",
   "execution_count": 28,
   "id": "6df4753a",
   "metadata": {},
   "outputs": [
    {
     "name": "stderr",
     "output_type": "stream",
     "text": [
      "                                                                                             \r"
     ]
    },
    {
     "data": {
      "text/html": [
       "<video src=\"media\\jupyter\\SIUnits@2023-01-18@16-01-57.mp4\" controls autoplay loop style=\"max-width: 60%;\"  >\n",
       "      Your browser does not support the <code>video</code> element.\n",
       "    </video>"
      ],
      "text/plain": [
       "<IPython.core.display.Video object>"
      ]
     },
     "metadata": {},
     "output_type": "display_data"
    }
   ],
   "source": [
    "%%manim -ql --format=mp4 --progress_bar display --verbosity ERROR SIUnits\n",
    "\n",
    "class SIUnitsTable(Scene):\n",
    "    def construct(self):\n",
    "        \n",
    "        self.camera.background_color = WHITE\n",
    "        #Grid\n",
    "        for x in range(-6,7):\n",
    "            for y in range(-3,4):\n",
    "                grid = Dot(point=[x, y, 0.], fill_opacity=0.2, color=BLACK)\n",
    "                self.add(grid)\n",
    "                \n",
    "        #Units\n",
    "        t0 = MobjectTable(\n",
    "            [\n",
    "                [myTex(\"Physikalische Größe\"), myTex(\"Name\"), myTex(\"Zeichen\")],\n",
    "                [myTex(\"Zeit\"), myTex(\"Sekunde\"), myTex(\"s\")],\n",
    "                [myTex(\"Länge\"), myTex(\"Meter\"), myTex(\"m\")],\n",
    "                [myTex(\"Masse\"), myTex(\"Kilogramm\"), myTex(\"kg\")],\n",
    "                [myTex(\"elek. Stromstärke\"), myTex(\"Ampere\"), myTex(\"A\")]\n",
    "            ]\n",
    "        ).scale(0.7)\n",
    "        t0.set_color(BLACK)\n",
    "        t0.add_highlighted_cell((1,1), color=PURE_RED, fill_opacity=0.6)\n",
    "        t0.add_highlighted_cell((1,2), color=PURE_RED, fill_opacity=0.6)\n",
    "        t0.add_highlighted_cell((1,3), color=PURE_RED, fill_opacity=0.6)\n",
    "        t0.get_rows()[1:].set_opacity(0)\n",
    "\n",
    "        \n",
    "        self.play(t0.create(lag_ratio=1, element_animation=Write))\n",
    "        self.play(t0.get_rows()[1].animate.set_opacity(1))\n",
    "        self.wait()\n",
    "        self.play(t0.get_rows()[2].animate.set_opacity(1))\n",
    "        self.wait()\n",
    "        self.play(t0.get_rows()[3].animate.set_opacity(1))\n",
    "        self.wait()\n",
    "        self.play(t0.get_rows()[4].animate.set_opacity(1))\n",
    "        \n",
    "        t1 = MobjectTable(\n",
    "            [\n",
    "                [myTex(\"Physikalische Größe\"), myTex(\"Name\"), myTex(\"Zeichen\"), myTex(\"zusammengesetzte Einheit\")],\n",
    "                [myTex(\"Zeit\"), myTex(\"Sekunde\"), myTex(\"s\"), myTex(\"\")],\n",
    "                [myTex(\"Länge\"), myTex(\"Meter\"), myTex(\"m\"), myTex(\"\")],\n",
    "                [myTex(\"Masse\"), myTex(\"Kilogramm\"), myTex(\"kg\"), myTex(\"\")],\n",
    "                [myTex(\"elek. Stromstärke\"), myTex(\"Ampere\"), myTex(\"A\"), myTex(\"\")],\n",
    "                [myTex(\"Kraft\"), myTex(\"Newton\"), myTex(\"N\"), myMathTex(\"\\dfrac{kg}{m \\cdot s}\")]\n",
    "            ]\n",
    "        ).scale(0.7).set_color(BLACK)\n",
    "        t1.add_highlighted_cell((1,1), color=PURE_RED, fill_opacity=0.6)\n",
    "        t1.add_highlighted_cell((1,2), color=PURE_RED, fill_opacity=0.6)\n",
    "        t1.add_highlighted_cell((1,3), color=PURE_RED, fill_opacity=0.6)\n",
    "        t1.add_highlighted_cell((1,4), color=PURE_RED, fill_opacity=0.6)\n",
    "        \n",
    "        self.wait()\n",
    "        self.play(FadeTransform(t0, t1))\n",
    "        \n",
    "        self.wait()\n",
    "        "
   ]
  },
  {
   "cell_type": "code",
   "execution_count": 32,
   "id": "8a05c3dc",
   "metadata": {},
   "outputs": [
    {
     "name": "stderr",
     "output_type": "stream",
     "text": [
      "                                                                                                             \r"
     ]
    },
    {
     "data": {
      "text/html": [
       "<video src=\"media\\jupyter\\SIUnits@2023-01-18@16-15-43.mp4\" controls autoplay loop style=\"max-width: 60%;\"  >\n",
       "      Your browser does not support the <code>video</code> element.\n",
       "    </video>"
      ],
      "text/plain": [
       "<IPython.core.display.Video object>"
      ]
     },
     "metadata": {},
     "output_type": "display_data"
    }
   ],
   "source": [
    "%%manim -ql --format=mp4 --progress_bar display --verbosity ERROR SIUnits\n",
    "\n",
    "class SIUnits(Scene):\n",
    "    def construct(self):\n",
    "        self.camera.background_color = WHITE        \n",
    "        \n",
    "        t1 = myTex(\"Zeit\")\n",
    "        t2 = myTex(\"Sekunde\")\n",
    "        t3 = myMathTex(\"1\\,s\")\n",
    "        \n",
    "        l1 = myTex(\"Länge\")\n",
    "        l2 = myTex(\"Meter\")\n",
    "        l3 = myMathTex(\"1\\,m\")\n",
    "        \n",
    "        m1 = myTex(\"Masse\")\n",
    "        m2 = myTex(\"Kilogramm\")\n",
    "        m3 = myMathTex(\"1\\,kg\")\n",
    "        \n",
    "        i1 = myTex(\"el. Stromstärke\")\n",
    "        i2 = myTex(\"Ampere\")\n",
    "        i3 = myMathTex(\"1\\,A\")\n",
    "        \n",
    "        f1 = myTex(\"Kraft\")\n",
    "        f2 = myTex(\"Newton\")\n",
    "        f3 = myMathTex(\"1\\,N = 1\\,\\dfrac{kg}{m \\cdot s}\")\n",
    "        \n",
    "        p1 = myTex(\"Druck\")\n",
    "        p2 = myTex(\"Pascal\")\n",
    "        p3 = myMathTex(\"1\\,Pa = 1\\,\\dfrac{kg}{m \\cdot s} = 1\\,\\dfrac{N}{m^2}\")\n",
    "        \n",
    "        r1 = myTex(\"el. Widerstand\")\n",
    "        r2 = myTex(\"Ohm\")\n",
    "        r3 = myMathTex(\"1\\,\\Omega = 1\\,\\dfrac{kg \\cdot m^2}{s^3 \\cdot A^2}\")\n",
    "        \n",
    "        vg1 = VGroup(t1, t2, t3, l1, l2, l3, m1, m2, m3, i1, i2, i3, f1, f2, f3, p1, p2, p3, r1, r2, r3)\n",
    "        vg1.arrange_in_grid(7, 3)\n",
    "        \n",
    "        self.play(ShowIncreasingSubsets(vg1))\n",
    "        self.wait()\n",
    "        "
   ]
  },
  {
   "cell_type": "code",
   "execution_count": null,
   "id": "3e42309c",
   "metadata": {},
   "outputs": [],
   "source": [
    "%%manim -qh  --format=mp4 --progress_bar display --verbosity ERROR Präfixe\n",
    "\n",
    "class Präfixe(Scene):\n",
    "    def construct(self):\n",
    "        self.camera.background_color = WHITE\n",
    "        \n",
    "        \"\"\"\n",
    "        #Grid\n",
    "        for x in range(-6,7):\n",
    "            for y in range(-3,4):\n",
    "                grid = Dot(point=[x, y, 0.], fill_opacity=0.2, color=BLACK)\n",
    "                coord = Text(\"(\" + str(x) + \"/\" + str(y) + \")\", font_size=15, fill_opacity=0.5, color=BLACK).next_to(grid, DR, buff=0.03)\n",
    "                self.add(grid, coord)\n",
    "        \"\"\"\n",
    "        \n",
    "        M = myTex(\"M \", \"= \", \"mega \", \"= \", \"1.000.000 \", \"= \", \"$10^6$ \").next_to([-5, 3, 0], buff=0)\n",
    "        M[0].set_color(PURE_RED)\n",
    "        \n",
    "        k = myTex(\"k \", \"= \", \"kilo \", \"= \", \"1.000 \", \"= \", \"$10^3$ \").next_to([-5, 1.8, 0], buff=0)\n",
    "        k[0].set_color(PURE_RED)\n",
    "        \n",
    "        d = myTex(\"d \", \"= \", \"dezi \", \"= \", \"$\\dfrac{1}{10}$ \", \"= \", \"$10^{-1}$ \").next_to([-5, 0.6, 0], buff=0)\n",
    "        d[0].set_color(PURE_RED)\n",
    "        \n",
    "        c = myTex(\"c \", \"= \", \"centi \", \"= \", \"$\\dfrac{1}{100}$ \", \"= \", \"$10^{-2}$ \").next_to([-5, -0.6, 0], buff=0)\n",
    "        c[0].set_color(PURE_RED)\n",
    "        \n",
    "        m = myTex(\"m \", \"= \", \"milli \", \"= \", \"$\\dfrac{1}{1.000}$ \", \"= \", \"$10^{-3}$ \").next_to([-5, -1.8, 0], buff=0)\n",
    "        m[0].set_color(PURE_RED)\n",
    "        \n",
    "        mu = myTex(\"$\\mu$ \", \"= \", \"micro \", \"= \", \"$\\dfrac{1}{1.000.000}$ \", \"= \", \"$10^{-6}$ \").next_to([-5, -3, 0], buff=0)\n",
    "        mu[0].set_color(PURE_RED)\n",
    "        \n",
    "        # vg = VGroup(M, k, d, c, m, mu)\n",
    "       \n",
    "        self.play(Write(M), run_time=2)\n",
    "        self.wait(0.5)\n",
    "        self.play(Write(k), run_time=2)\n",
    "        self.wait(0.5)\n",
    "        self.play(Write(d), run_time=2)\n",
    "        self.wait(0.5)\n",
    "        self.play(Write(c), run_time=2)\n",
    "        self.wait(0.5)\n",
    "        self.play(Write(m), run_time=2)\n",
    "        self.wait(0.5)\n",
    "        self.play(Write(mu), run_time=2)\n",
    "        self.wait(0.5)\n"
   ]
  },
  {
   "cell_type": "code",
   "execution_count": 22,
   "id": "d095f816",
   "metadata": {},
   "outputs": [
    {
     "name": "stderr",
     "output_type": "stream",
     "text": [
      "                                                                                                                                                                                                                                                                                                                                         \r"
     ]
    },
    {
     "data": {
      "text/html": [
       "<video src=\"media\\jupyter\\Brüche@2022-12-22@18-06-14.mp4\" controls autoplay loop style=\"max-width: 60%;\"  >\n",
       "      Your browser does not support the <code>video</code> element.\n",
       "    </video>"
      ],
      "text/plain": [
       "<IPython.core.display.Video object>"
      ]
     },
     "metadata": {},
     "output_type": "display_data"
    }
   ],
   "source": [
    "%%manim -qh --format=mp4 --progress_bar display --verbosity ERROR Brüche\n",
    "\n",
    "class Brüche(Scene):\n",
    "    def construct(self):\n",
    "        self.camera.background_color = WHITE\n",
    "        \n",
    "\n",
    "        #Grid\n",
    "        screen_frame = FullScreenRectangle(color=BLACK)\n",
    "        for x in range(-7,7):\n",
    "            for y in range(-4, 4):\n",
    "                grid = Dot(point=[x, y, 0.], fill_opacity=0.2, color=BLACK)\n",
    "                coord = Text(\n",
    "                    \"(\" + str(x) + \"/\" + str(y) + \")\", font_size=15, fill_opacity=0.5, color=BLACK\n",
    "                ).next_to(grid, DR, buff=0.03)\n",
    "                # self.add(grid, coord, screen_frame)\n",
    "                \n",
    "        # Brüche multiplizieren\n",
    "        multi = myMathTex(\n",
    "            \"\\dfrac{1.6}{8}\", \"\\cdot\", \"\\dfrac{5}{4}\", \"=\", \"\\dfrac{1.6 \\cdot 5}{8 \\cdot 4}\", \"=\", \n",
    "            \"\\dfrac{8}{8}\", \"=\", \"1\"\n",
    "        )\n",
    "        multi_text = myText(\n",
    "            \"1. Brüche multiplizieren\"\n",
    "        ).next_to([-7, 3.5, 0])\n",
    "        position_list_multi = [\n",
    "            [-7, 3.8, 0], \n",
    "            [-7, 2, 0],\n",
    "            [-1, 2, 0],\n",
    "            [-1, 3.8, 0],\n",
    "        ]\n",
    "        multi_frame = Polygon(*position_list_multi, stroke_width=5, stroke_color=PURE_RED, fill_color=PURE_RED, fill_opacity=0.1)\n",
    "        \n",
    "        self.play(Write(multi_text))\n",
    "        self.play(Write(multi))\n",
    "        self.wait()\n",
    "        self.play(multi[5:].animate.set_opacity(0.5))\n",
    "        self.wait()\n",
    "        self.play(FadeOut(multi[5:]))\n",
    "        self.wait()\n",
    "        self.play(\n",
    "            multi[:5].animate.scale(0.7).next_to([-6.5, 2.5, 0]),\n",
    "            multi_text.animate.scale(0.7).next_to([-7, 3.5, 0]),\n",
    "            DrawBorderThenFill(multi_frame)\n",
    "                 )\n",
    "        self.play(multi_frame.animate.set_stroke_color(BLACK).set_fill_color(BLACK))\n",
    "        self.wait()\n",
    "        \n",
    "        # Brüche dividieren\n",
    "        divi = myMathTex(\n",
    "            \"\\dfrac{1}{2}\", \"\\div\", \"\\dfrac{3}{8}\", \"=\", \"\\dfrac{1}{2}\", \"\\cdot\", \"\\dfrac{8}{3}\", \"=\", \n",
    "            \"\\dfrac{1 \\cdot 8}{2 \\cdot 3}\", \"=\", \"\\dfrac{8}{6}\", \"=\", \"1.333\"\n",
    "        )\n",
    "        divi_text = myText(\n",
    "            \"2. Brüche dividieren\"\n",
    "        ).next_to([-7, 1.5, 0])\n",
    "        position_list_divi = [\n",
    "            [0.5, 3.8, 0], \n",
    "            [0.5, 2, 0],\n",
    "            [6.5, 2, 0],\n",
    "            [6.5, 3.8, 0],\n",
    "        ]\n",
    "        divi_frame = Polygon(*position_list_divi, stroke_width=5, stroke_color=PURE_RED, fill_color=PURE_RED, fill_opacity=0.1)\n",
    "        \n",
    "        self.play(Write(divi_text))\n",
    "        self.play(Write(divi))\n",
    "        self.wait()\n",
    "        self.play(divi[7:].animate.set_opacity(0.5))\n",
    "        self.wait()\n",
    "        self.play(FadeOut(divi[7:]), divi[:7].animate.shift(1.5*RIGHT))\n",
    "        self.wait()\n",
    "        self.play(\n",
    "            divi[:7].animate.scale(0.7).next_to([1, 2.5, 0]),\n",
    "            divi_text.animate.scale(0.7).next_to([0.5, 3.5, 0]),\n",
    "            DrawBorderThenFill(divi_frame)\n",
    "                 )\n",
    "        self.play(divi_frame.animate.set_stroke_color(BLACK).set_fill_color(BLACK))\n",
    "        self.wait()\n",
    "        \n",
    "        # Die neutrale 1\n",
    "        eins = myMathTex(\n",
    "            \"\\dfrac{3}{4}\", \"=\", \"\\dfrac{3}{4}\", \"\\cdot\", \"1\", \"=\", \"\\dfrac{3}{4}\", \"\\cdot\", \"\\dfrac{1}{1}\"\n",
    "        )\n",
    "        eins_text = myText(\n",
    "            \"3. Die neutrale 1\"\n",
    "        ).next_to([-7, 1.5, 0])\n",
    "        position_list_eins = [\n",
    "            [-7, -2, 0], \n",
    "            [-7, -3.8, 0],\n",
    "            [-1, -3.8, 0],\n",
    "            [-1, -2, 0],\n",
    "        ]\n",
    "        eins_frame = Polygon(*position_list_eins, stroke_width=5, stroke_color=PURE_RED, fill_color=PURE_RED, fill_opacity=0.1)\n",
    "        \n",
    "        self.play(Write(eins_text))\n",
    "        self.play(Write(eins))\n",
    "        self.wait()\n",
    "        self.play(\n",
    "            eins[:9].animate.scale(0.7).next_to([-6.5, -3.3, 0]),\n",
    "            eins_text.animate.scale(0.7).next_to([-7, -2.3, 0]),\n",
    "            DrawBorderThenFill(eins_frame)\n",
    "                 )\n",
    "        self.play(eins_frame.animate.set_stroke_color(BLACK).set_fill_color(BLACK))\n",
    "        self.wait()\n",
    "        \n",
    "        # Brüche kürzen\n",
    "        kürzen = myMathTex(\n",
    "            \"\\dfrac{12 \\,\\\\text{kg}^2}{8 \\,\\\\text{kg}}\", \"=\", \"\\dfrac{3 \\cdot 4 \\,\\\\text{kg}^2}{2 \\cdot 4 \\,\\\\text{kg}}\", \"=\", \"\\dfrac{3 \\,\\\\text{kg}}{2}\", \"\\cdot\", \"\\dfrac{4 \\,\\\\text{kg}}{4 \\,\\\\text{kg}}\", \"=\", \"\\dfrac{3 \\,\\\\text{kg}}{2}\", \"\\cdot\", \"1\", \"=\", \"1.5 \\,\\\\text{kg}\"\n",
    "        )\n",
    "        kürzen_text = myText(\n",
    "            \"4. Brüche kürzen\"\n",
    "        ).next_to([-7, 1.5, 0])\n",
    "        position_list_kürzen = [\n",
    "            [0.5, -3.8, 0], \n",
    "            [0.5, -2, 0],\n",
    "            [6.5, -2, 0],\n",
    "            [6.5, -3.8, 0],\n",
    "        ]\n",
    "        kürzen_frame = Polygon(*position_list_kürzen, stroke_width=5, stroke_color=PURE_RED, fill_color=PURE_RED, fill_opacity=0.1)\n",
    "        kürzen_strich = always_redraw(lambda : \n",
    "                                      Line(start=kürzen[6].get_corner(UL), end=kürzen[6].get_corner(DR), \n",
    "                                           color=PURE_RED, stroke_width=3.8)\n",
    "                                     )\n",
    "        self.play(Write(kürzen_text))\n",
    "        self.play(Write(kürzen))\n",
    "        self.play(Create(kürzen_strich))\n",
    "        self.wait()\n",
    "        self.play(kürzen[7:].animate.set_opacity(0.5))\n",
    "        self.wait()\n",
    "        self.play(FadeOut(kürzen[7:]), kürzen[:7].animate.shift(1.5*RIGHT))\n",
    "        self.wait()\n",
    "        self.play(\n",
    "            kürzen[:7].animate.scale(0.7).next_to([1, -3.3, 0]),\n",
    "            kürzen_text.animate.scale(0.7).next_to([0.5, -2.3, 0]),\n",
    "            DrawBorderThenFill(kürzen_frame)\n",
    "                 )\n",
    "        self.play(kürzen_frame.animate.set_stroke_color(BLACK).set_fill_color(BLACK))\n",
    "        self.wait()\n",
    "\n",
    "        #Alles in die Mitte\n",
    "        vg_multi = VGroup(multi[:5], multi_text, multi_frame)\n",
    "        vg_divi = VGroup(divi[:7], divi_text, divi_frame)\n",
    "        vg_eins = VGroup(eins[:9], eins_text, eins_frame)\n",
    "        vg_kürzen = VGroup(kürzen[:7], kürzen_text, kürzen_frame)\n",
    "        \n",
    "        self.play(\n",
    "            vg_multi.animate.next_to(ORIGIN, UL, buff=0.3),\n",
    "            vg_divi.animate.next_to(ORIGIN, UR, buff=0.3),\n",
    "            vg_eins.animate.next_to(ORIGIN, DL, buff=0.3),\n",
    "            vg_kürzen.animate.next_to(ORIGIN, DR, buff=0.3)\n",
    "        )\n",
    "\n",
    "        self.wait()"
   ]
  },
  {
   "cell_type": "code",
   "execution_count": 60,
   "id": "c2b78ad6",
   "metadata": {},
   "outputs": [
    {
     "data": {
      "image/png": "[encoded data removed]",
      "text/plain": [
       "<IPython.core.display.Image object>"
      ]
     },
     "metadata": {},
     "output_type": "display_data"
    }
   ],
   "source": [
    "%%manim -ql -s --format=mp4 --progress_bar display --verbosity ERROR Linie\n",
    "\n",
    "class Linie(Scene):\n",
    "    def construct(self):\n",
    "        \n",
    "        l = Line(start=[2, 2, 0], end=[-2, -2, 0], color=RED, stroke_width=4)\n",
    "        self.add(l)\n",
    "        "
   ]
  },
  {
   "cell_type": "code",
   "execution_count": 103,
   "id": "96e24a98",
   "metadata": {},
   "outputs": [
    {
     "name": "stderr",
     "output_type": "stream",
     "text": [
      "                                                                                                         \r"
     ]
    },
    {
     "data": {
      "text/html": [
       "<video src=\"media\\jupyter\\Masse@2023-01-24@16-15-36.mp4\" controls autoplay loop style=\"max-width: 60%;\"  >\n",
       "      Your browser does not support the <code>video</code> element.\n",
       "    </video>"
      ],
      "text/plain": [
       "<IPython.core.display.Video object>"
      ]
     },
     "metadata": {},
     "output_type": "display_data"
    }
   ],
   "source": [
    "%%manim -ql  --format=mp4 --progress_bar display --verbosity ERROR Masse\n",
    "\n",
    "class Masse(Scene):\n",
    "    def construct(self):\n",
    "        self.camera.background_color = WHITE\n",
    "        \n",
    "        \n",
    "        factor = myMathTex(*r\"1  \\,\\text{kg}  =  1000  \\,\\text{g}\".split(\"  \")).shift(UP)\n",
    "        \n",
    "        eq1 = myMathTex(\n",
    "            *r\"534  \\,\\text{g}  \\cdot  {1 \\,\\text{kg}  \\over  1000 \\,\\text{g}}  =  {534  \\cdot  1 \\,\\text{kg}  \\over  1000}  =  0.534  \\,\\text{kg}\"\n",
    "            .split(\"  \"))\n",
    "        \n",
    "        \n",
    "        self.play(Write(factor))\n",
    "        self.wait()\n",
    "        self.play(Write(eq1[0:2])) # 534 g\n",
    "        self.wait()\n",
    "        self.play(Write(eq1[2]), Write(eq1[4])) # cdot und Bruchstrich\n",
    "        self.wait()\n",
    "        z1 = factor[0:2].copy()\n",
    "        self.play(z1.animate.move_to(eq1[3])) # 1 kg\n",
    "        n1 = factor[3:5].copy()\n",
    "        self.play(n1.animate.move_to(eq1[5])) # 1000 g\n",
    "        self.wait()\n",
    "        # Kürzen\n",
    "        line = Line(start=ORIGIN, end=[1,1,0], color=PURE_RED, stroke_width=3).scale(0.3)\n",
    "        l1 = line.copy().move_to(eq1[1])\n",
    "        l2 = line.copy().move_to(n1[1])\n",
    "        self.play(FadeIn(l1, l2))\n",
    "        self.wait()\n",
    "        \n",
    "        self.play(Write(eq1[6])) # =\n",
    "        z2 = eq1[0].copy()\n",
    "        self.play(z2.animate.move_to(eq1[7]), Write(eq1[10])) # 534 und Bruchstrich\n",
    "        self.play(Write(eq1[8])) # cdot\n",
    "        z3 = z1.copy()\n",
    "        self.play(z3.animate.move_to(eq1[9])) # 1 kg\n",
    "        n2 = n1[0].copy()\n",
    "        self.play(n2.animate.move_to(eq1[11])) # 1000\n",
    "        self.wait()\n",
    "        self.play(FadeOut(eq1[8], z3[0]), z2.animate.next_to(z3[1], LEFT, aligned_edge=UP))\n",
    "        self.wait()        \n",
    "        self.play(Write(eq1[12:]))\n",
    "        self.wait()\n",
    "        \n",
    "        \n"
   ]
  },
  {
   "cell_type": "code",
   "execution_count": 30,
   "id": "f342e76d",
   "metadata": {},
   "outputs": [
    {
     "name": "stderr",
     "output_type": "stream",
     "text": [
      "                                                                                                                         \r"
     ]
    },
    {
     "data": {
      "text/html": [
       "<video src=\"media\\jupyter\\fractions@2023-01-24@12-39-46.mp4\" controls autoplay loop style=\"max-width: 60%;\"  >\n",
       "      Your browser does not support the <code>video</code> element.\n",
       "    </video>"
      ],
      "text/plain": [
       "<IPython.core.display.Video object>"
      ]
     },
     "metadata": {},
     "output_type": "display_data"
    }
   ],
   "source": [
    "%%manim -ql  --format=mp4 --progress_bar display --verbosity ERROR fractions\n",
    "class fractions(Scene):\n",
    "    def construct(self):\n",
    "        eq1 = MathTex(*r\"{{a\\cdot d}  \\over  {b\\cdot d}}  +  {{b\\cdot c}  \\over  {b\\cdot d}}\".split('  '))\n",
    "        eq2 = MathTex(*r\"{a  \\over  b}  +  {c  \\over  d}\".split('  '))\n",
    "        eq3 = MathTex(*r\"{{a\\cdot d}  +  {b\\cdot c}}  \\over  {b\\cdot d}\".split('  '))\n",
    "\n",
    "        eq1a = eq1.copy()\n",
    "        eq1a[0].become(eq2[0].copy().move_to(eq1[0]))\n",
    "        eq1a[2].become(eq2[2].copy().move_to(eq1[2]))\n",
    "        eq1a[4].become(eq2[4].copy().move_to(eq1[4]))\n",
    "        eq1a[6].become(eq2[6].copy().move_to(eq1[6]))\n",
    "\n",
    "        self.add(eq1a)\n",
    "        self.wait()\n",
    "\n",
    "        b1 = eq1a[2].copy()\n",
    "        b2 = eq1a[2].copy()\n",
    "        d1 = eq1a[6].copy()\n",
    "        d2 = eq1a[6].copy()\n",
    "\n",
    "        self.add(b1,b2,d1,d2)\n",
    "        self.play(\n",
    "            b1.animate.move_to(eq1[6],LEFT),\n",
    "            b2.animate.move_to(eq1[4],LEFT),\n",
    "            d1.animate.move_to(eq1[2],RIGHT),\n",
    "            d2.animate.move_to(eq1[0],RIGHT),\n",
    "        )\n",
    "        self.play(\n",
    "            FadeOut(b1),\n",
    "            FadeOut(b2),\n",
    "            FadeOut(d1),\n",
    "            FadeOut(d2),\n",
    "            TransformMatchingShapes(eq1a[0],eq1[0]),\n",
    "            TransformMatchingShapes(eq1a[0],eq1[0]),\n",
    "            TransformMatchingShapes(eq1a[2],eq1[2]),\n",
    "            TransformMatchingShapes(eq1a[4],eq1[4]),\n",
    "            TransformMatchingShapes(eq1a[6],eq1[6]),\n",
    "            run_time=2\n",
    "        )        \n",
    "        self.wait()\n",
    "        midDenom = (eq1a[2].get_center()+eq1a[6].get_center())/2\n",
    "        self.play(\n",
    "            eq1[2].animate.move_to(midDenom),\n",
    "            eq1[6].animate.move_to(midDenom),\n",
    "            eq1a[3].animate.move_to(eq3[1]),\n",
    "            eq1[1].animate.stretch_about_point(1.5,[1,0,0],eq1[1].get_left()),\n",
    "            eq1[5].animate.stretch_about_point(1.5,[1,0,0],eq1[5].get_right()),\n",
    "        )\n",
    "        self.wait()  "
   ]
  },
  {
   "cell_type": "code",
   "execution_count": null,
   "id": "adfd61fe",
   "metadata": {},
   "outputs": [],
   "source": []
  }
 ],
 "metadata": {
  "kernelspec": {
   "display_name": "Python 3 (ipykernel)",
   "language": "python",
   "name": "python3"
  },
  "language_info": {
   "codemirror_mode": {
    "name": "ipython",
    "version": 3
   },
   "file_extension": ".py",
   "mimetype": "text/x-python",
   "name": "python",
   "nbconvert_exporter": "python",
   "pygments_lexer": "ipython3",
   "version": "3.9.12"
  }
 },
 "nbformat": 4,
 "nbformat_minor": 5
}
