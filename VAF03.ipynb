{
 "cells": [
  {
   "cell_type": "code",
   "execution_count": 1,
   "id": "bc706ef3",
   "metadata": {},
   "outputs": [
    {
     "data": {
      "text/html": [
       "<pre style=\"white-space:pre;overflow-x:auto;line-height:normal;font-family:Menlo,'DejaVu Sans Mono',consolas,'Courier New',monospace\">Manim Community <span style=\"color: #008000; text-decoration-color: #008000\">v0.16.0.post0</span>\n",
       "\n",
       "</pre>\n"
      ],
      "text/plain": [
       "Manim Community \u001b[32mv0.\u001b[0m\u001b[32m16.0\u001b[0m\u001b[32m.post0\u001b[0m\n",
       "\n"
      ]
     },
     "metadata": {},
     "output_type": "display_data"
    }
   ],
   "source": [
    "from manim import *"
   ]
  },
  {
   "cell_type": "code",
   "execution_count": 26,
   "id": "4765f0ea",
   "metadata": {},
   "outputs": [
    {
     "name": "stderr",
     "output_type": "stream",
     "text": [
      "                                                                                              \r"
     ]
    },
    {
     "data": {
      "text/html": [
       "<video src=\"media\\jupyter\\T_down@2022-09-22@11-37-20.mov\" controls autoplay loop style=\"max-width: 60%;\"  >\n",
       "      Your browser does not support the <code>video</code> element.\n",
       "    </video>"
      ],
      "text/plain": [
       "<IPython.core.display.Video object>"
      ]
     },
     "metadata": {},
     "output_type": "display_data"
    }
   ],
   "source": [
    "%%manim -qh -t --format=mov --progress_bar display --verbosity ERROR T_down\n",
    "\n",
    "class T_down(Scene):\n",
    "    def construct(self):\n",
    "        t = ValueTracker(70)\n",
    "        \n",
    "        Num = always_redraw(lambda: DecimalNumber().scale(1.5).set_value(t.get_value()))\n",
    "        Temp = Text(\"Temp: \").next_to(Num, LEFT)\n",
    "        Grad = Text(\" °C\").next_to(Num, RIGHT)\n",
    "        \n",
    "        \n",
    "        self.add(Num, Temp, Grad)\n",
    "        self.wait()\n",
    "        self.play(t.animate.set_value(54), run_time=5, rate_func=rate_functions.ease_in_out_cubic)\n",
    "        self.wait()"
   ]
  },
  {
   "cell_type": "code",
   "execution_count": 2,
   "id": "f2643e00",
   "metadata": {},
   "outputs": [
    {
     "name": "stderr",
     "output_type": "stream",
     "text": [
      "                                                                                                       \r"
     ]
    },
    {
     "ename": "KeyboardInterrupt",
     "evalue": "",
     "output_type": "error",
     "traceback": [
      "\u001b[1;31m---------------------------------------------------------------------------\u001b[0m",
      "\u001b[1;31mKeyboardInterrupt\u001b[0m                         Traceback (most recent call last)",
      "Input \u001b[1;32mIn [2]\u001b[0m, in \u001b[0;36m<cell line: 1>\u001b[1;34m()\u001b[0m\n\u001b[1;32m----> 1\u001b[0m \u001b[43mget_ipython\u001b[49m\u001b[43m(\u001b[49m\u001b[43m)\u001b[49m\u001b[38;5;241;43m.\u001b[39;49m\u001b[43mrun_cell_magic\u001b[49m\u001b[43m(\u001b[49m\u001b[38;5;124;43m'\u001b[39;49m\u001b[38;5;124;43mmanim\u001b[39;49m\u001b[38;5;124;43m'\u001b[39;49m\u001b[43m,\u001b[49m\u001b[43m \u001b[49m\u001b[38;5;124;43m'\u001b[39;49m\u001b[38;5;124;43m-qh -t --format=mov --progress_bar display --verbosity ERROR Rechnung_T\u001b[39;49m\u001b[38;5;124;43m'\u001b[39;49m\u001b[43m,\u001b[49m\u001b[43m \u001b[49m\u001b[38;5;124;43m'\u001b[39;49m\u001b[38;5;124;43m# Achtung! Format, Transparenter Hintergrund, Weiße Schrift\u001b[39;49m\u001b[38;5;130;43;01m\\n\u001b[39;49;00m\u001b[38;5;130;43;01m\\n\u001b[39;49;00m\u001b[38;5;124;43mclass Rechnung_T(Scene):\u001b[39;49m\u001b[38;5;130;43;01m\\n\u001b[39;49;00m\u001b[38;5;124;43m    def construct(self):\u001b[39;49m\u001b[38;5;130;43;01m\\n\u001b[39;49;00m\u001b[38;5;124;43m        self.camera.background_color = WHITE\u001b[39;49m\u001b[38;5;130;43;01m\\n\u001b[39;49;00m\u001b[38;5;124;43m            \u001b[39;49m\u001b[38;5;130;43;01m\\n\u001b[39;49;00m\u001b[38;5;124;43m        V = MathTex(r\u001b[39;49m\u001b[38;5;124;43m\"\u001b[39;49m\u001b[38;5;130;43;01m\\\\\u001b[39;49;00m\u001b[38;5;124;43mdot\u001b[39;49m\u001b[38;5;124;43m{\u001b[39;49m\u001b[38;5;130;43;01m\\\\\u001b[39;49;00m\u001b[38;5;124;43mtext\u001b[39;49m\u001b[38;5;132;43;01m{V}\u001b[39;49;00m\u001b[38;5;124;43m} = \u001b[39;49m\u001b[38;5;124;43m\"\u001b[39;49m\u001b[38;5;124;43m, color=WHITE, font_size=120)\u001b[39;49m\u001b[38;5;130;43;01m\\n\u001b[39;49;00m\u001b[38;5;124;43m        self.play(Write(V))\u001b[39;49m\u001b[38;5;130;43;01m\\n\u001b[39;49;00m\u001b[38;5;124;43m        self.play(V.animate(rate_func=rate_functions.ease_out_bounce).shift(4*LEFT))\u001b[39;49m\u001b[38;5;130;43;01m\\n\u001b[39;49;00m\u001b[38;5;130;43;01m\\n\u001b[39;49;00m\u001b[38;5;124;43m        b_links = Line(start=V.get_right()+0.5*RIGHT, end=V.get_right()+3.5*RIGHT, color=WHITE)\u001b[39;49m\u001b[38;5;130;43;01m\\n\u001b[39;49;00m\u001b[38;5;124;43m        z_oben = MathTex(r\u001b[39;49m\u001b[38;5;124;43m\"\u001b[39;49m\u001b[38;5;124;43m0.135\u001b[39;49m\u001b[38;5;124;43m\"\u001b[39;49m\u001b[38;5;124;43m, color=WHITE, font_size=120).next_to(b_links, UP)\u001b[39;49m\u001b[38;5;130;43;01m\\n\u001b[39;49;00m\u001b[38;5;124;43m        z_unten = MathTex(r\u001b[39;49m\u001b[38;5;124;43m\"\u001b[39;49m\u001b[38;5;124;43m109\u001b[39;49m\u001b[38;5;124;43m\"\u001b[39;49m\u001b[38;5;124;43m, color=WHITE, font_size=120).next_to(b_links, DOWN)\u001b[39;49m\u001b[38;5;130;43;01m\\n\u001b[39;49;00m\u001b[38;5;124;43m        \u001b[39;49m\u001b[38;5;130;43;01m\\n\u001b[39;49;00m\u001b[38;5;124;43m        self.play(Write(z_oben))\u001b[39;49m\u001b[38;5;130;43;01m\\n\u001b[39;49;00m\u001b[38;5;124;43m        self.play(Create(b_links, run_time=0.5))\u001b[39;49m\u001b[38;5;130;43;01m\\n\u001b[39;49;00m\u001b[38;5;124;43m        self.play(Write(z_unten))\u001b[39;49m\u001b[38;5;130;43;01m\\n\u001b[39;49;00m\u001b[38;5;124;43m        self.wait()\u001b[39;49m\u001b[38;5;130;43;01m\\n\u001b[39;49;00m\u001b[38;5;124;43m           \u001b[39;49m\u001b[38;5;130;43;01m\\n\u001b[39;49;00m\u001b[38;5;124;43m        b_rechts = always_redraw(lambda: Line(color=WHITE).put_start_and_end_on(b_links.get_end()+0.5*RIGHT, b_links.get_end()+2.5*RIGHT))\u001b[39;49m\u001b[38;5;130;43;01m\\n\u001b[39;49;00m\u001b[38;5;124;43m        e_m = MathTex(r\u001b[39;49m\u001b[38;5;124;43m\"\u001b[39;49m\u001b[38;5;130;43;01m\\\\\u001b[39;49;00m\u001b[38;5;124;43mtext\u001b[39;49m\u001b[38;5;132;43;01m{m}\u001b[39;49;00m\u001b[38;5;124;43m^3\u001b[39;49m\u001b[38;5;124;43m\"\u001b[39;49m\u001b[38;5;124;43m, color=WHITE, font_size=120).next_to(b_rechts, UP)\u001b[39;49m\u001b[38;5;130;43;01m\\n\u001b[39;49;00m\u001b[38;5;124;43m        e_s = always_redraw(lambda: Tex(r\u001b[39;49m\u001b[38;5;124;43m\"\u001b[39;49m\u001b[38;5;124;43ms\u001b[39;49m\u001b[38;5;124;43m\"\u001b[39;49m\u001b[38;5;124;43m, color=WHITE, font_size=120).next_to(b_rechts, DOWN))\u001b[39;49m\u001b[38;5;130;43;01m\\n\u001b[39;49;00m\u001b[38;5;124;43m        \u001b[39;49m\u001b[38;5;130;43;01m\\n\u001b[39;49;00m\u001b[38;5;124;43m        self.play(Write(e_m))\u001b[39;49m\u001b[38;5;130;43;01m\\n\u001b[39;49;00m\u001b[38;5;124;43m        self.play(Create(b_rechts, run_time=0.5))\u001b[39;49m\u001b[38;5;130;43;01m\\n\u001b[39;49;00m\u001b[38;5;124;43m        self.play(Write(e_s))\u001b[39;49m\u001b[38;5;130;43;01m\\n\u001b[39;49;00m\u001b[38;5;124;43m        self.wait()\u001b[39;49m\u001b[38;5;130;43;01m\\n\u001b[39;49;00m\u001b[38;5;124;43m        \u001b[39;49m\u001b[38;5;130;43;01m\\n\u001b[39;49;00m\u001b[38;5;124;43m        e_m.add_updater(lambda m: e_m.next_to(b_rechts, UP))\u001b[39;49m\u001b[38;5;130;43;01m\\n\u001b[39;49;00m\u001b[38;5;124;43m          \u001b[39;49m\u001b[38;5;130;43;01m\\n\u001b[39;49;00m\u001b[38;5;124;43m        self.play(Unwrite(e_s, run_time=0.5))\u001b[39;49m\u001b[38;5;130;43;01m\\n\u001b[39;49;00m\u001b[38;5;130;43;01m\\n\u001b[39;49;00m\u001b[38;5;124;43m        self.play(b_links.animate.put_start_and_end_on(b_links.get_start(), b_links.get_end()+0.5*RIGHT)) \u001b[39;49m\u001b[38;5;130;43;01m\\n\u001b[39;49;00m\u001b[38;5;124;43m        \u001b[39;49m\u001b[38;5;130;43;01m\\n\u001b[39;49;00m\u001b[38;5;124;43m        fac1 = MathTex(r\u001b[39;49m\u001b[38;5;124;43m\"\u001b[39;49m\u001b[38;5;130;43;01m\\\\\u001b[39;49;00m\u001b[38;5;124;43mcdot \u001b[39;49m\u001b[38;5;130;43;01m\\\\\u001b[39;49;00m\u001b[38;5;124;43mfrac\u001b[39;49m\u001b[38;5;132;43;01m{1}\u001b[39;49;00m\u001b[38;5;132;43;01m{60}\u001b[39;49;00m\u001b[38;5;124;43m\"\u001b[39;49m\u001b[38;5;124;43m, color=WHITE, font_size=50).next_to(z_unten, RIGHT)\u001b[39;49m\u001b[38;5;130;43;01m\\n\u001b[39;49;00m\u001b[38;5;124;43m        self.play(Write(fac1))\u001b[39;49m\u001b[38;5;130;43;01m\\n\u001b[39;49;00m\u001b[38;5;124;43m        \u001b[39;49m\u001b[38;5;130;43;01m\\n\u001b[39;49;00m\u001b[38;5;124;43m        e_min = Tex(r\u001b[39;49m\u001b[38;5;124;43m\"\u001b[39;49m\u001b[38;5;124;43mmin\u001b[39;49m\u001b[38;5;124;43m\"\u001b[39;49m\u001b[38;5;124;43m, color=WHITE, font_size=120).next_to(b_rechts, DOWN)\u001b[39;49m\u001b[38;5;130;43;01m\\n\u001b[39;49;00m\u001b[38;5;124;43m        self.play(Write(e_min))\u001b[39;49m\u001b[38;5;130;43;01m\\n\u001b[39;49;00m\u001b[38;5;124;43m        self.wait(2)\u001b[39;49m\u001b[38;5;130;43;01m\\n\u001b[39;49;00m\u001b[38;5;124;43m        \u001b[39;49m\u001b[38;5;130;43;01m\\n\u001b[39;49;00m\u001b[38;5;124;43m        self.play(Unwrite(e_min, run_time=0.5))\u001b[39;49m\u001b[38;5;130;43;01m\\n\u001b[39;49;00m\u001b[38;5;130;43;01m\\n\u001b[39;49;00m\u001b[38;5;124;43m        self.play(b_links.animate.put_start_and_end_on(b_links.get_start(), b_links.get_end()+0.8*RIGHT)) \u001b[39;49m\u001b[38;5;130;43;01m\\n\u001b[39;49;00m\u001b[38;5;124;43m    \u001b[39;49m\u001b[38;5;130;43;01m\\n\u001b[39;49;00m\u001b[38;5;124;43m        fac2 = MathTex(r\u001b[39;49m\u001b[38;5;124;43m\"\u001b[39;49m\u001b[38;5;130;43;01m\\\\\u001b[39;49;00m\u001b[38;5;124;43mcdot \u001b[39;49m\u001b[38;5;130;43;01m\\\\\u001b[39;49;00m\u001b[38;5;124;43mfrac\u001b[39;49m\u001b[38;5;132;43;01m{1}\u001b[39;49;00m\u001b[38;5;132;43;01m{60}\u001b[39;49;00m\u001b[38;5;124;43m\"\u001b[39;49m\u001b[38;5;124;43m, color=WHITE, font_size=50).next_to(fac1, RIGHT)\u001b[39;49m\u001b[38;5;130;43;01m\\n\u001b[39;49;00m\u001b[38;5;124;43m        self.play(TransformFromCopy(fac1, fac2))\u001b[39;49m\u001b[38;5;130;43;01m\\n\u001b[39;49;00m\u001b[38;5;124;43m    \u001b[39;49m\u001b[38;5;130;43;01m\\n\u001b[39;49;00m\u001b[38;5;124;43m        e_h = always_redraw(lambda: Tex(r\u001b[39;49m\u001b[38;5;124;43m\"\u001b[39;49m\u001b[38;5;124;43mh\u001b[39;49m\u001b[38;5;124;43m\"\u001b[39;49m\u001b[38;5;124;43m, color=WHITE, font_size=120).next_to(b_rechts, DOWN))\u001b[39;49m\u001b[38;5;130;43;01m\\n\u001b[39;49;00m\u001b[38;5;124;43m        self.play(Write(e_h))\u001b[39;49m\u001b[38;5;130;43;01m\\n\u001b[39;49;00m\u001b[38;5;124;43m        self.wait(2)\u001b[39;49m\u001b[38;5;130;43;01m\\n\u001b[39;49;00m\u001b[38;5;124;43m        \u001b[39;49m\u001b[38;5;130;43;01m\\n\u001b[39;49;00m\u001b[38;5;124;43m        vg1 = VGroup(fac1, fac2)\u001b[39;49m\u001b[38;5;130;43;01m\\n\u001b[39;49;00m\u001b[38;5;124;43m        \u001b[39;49m\u001b[38;5;130;43;01m\\n\u001b[39;49;00m\u001b[38;5;124;43m        self.play(Unwrite(vg1, run_time=0.5))\u001b[39;49m\u001b[38;5;130;43;01m\\n\u001b[39;49;00m\u001b[38;5;124;43m        self.play(b_links.animate.put_start_and_end_on(b_links.get_start(), b_links.get_end()+0.4*LEFT))\u001b[39;49m\u001b[38;5;130;43;01m\\n\u001b[39;49;00m\u001b[38;5;124;43m        f_3600 = MathTex(r\u001b[39;49m\u001b[38;5;124;43m\"\u001b[39;49m\u001b[38;5;130;43;01m\\\\\u001b[39;49;00m\u001b[38;5;124;43mcdot \u001b[39;49m\u001b[38;5;130;43;01m\\\\\u001b[39;49;00m\u001b[38;5;124;43mfrac\u001b[39;49m\u001b[38;5;132;43;01m{1}\u001b[39;49;00m\u001b[38;5;132;43;01m{3600}\u001b[39;49;00m\u001b[38;5;124;43m\"\u001b[39;49m\u001b[38;5;124;43m, color=WHITE, font_size=50).next_to(z_unten, RIGHT)\u001b[39;49m\u001b[38;5;130;43;01m\\n\u001b[39;49;00m\u001b[38;5;124;43m        self.play(Write(f_3600))\u001b[39;49m\u001b[38;5;130;43;01m\\n\u001b[39;49;00m\u001b[38;5;124;43m        self.wait(2)\u001b[39;49m\u001b[38;5;130;43;01m\\n\u001b[39;49;00m\u001b[38;5;124;43m        \u001b[39;49m\u001b[38;5;130;43;01m\\n\u001b[39;49;00m\u001b[38;5;124;43m        \u001b[39;49m\u001b[38;5;130;43;01m\\n\u001b[39;49;00m\u001b[38;5;124;43m        self.play(Unwrite(f_3600, run_time=0.5))\u001b[39;49m\u001b[38;5;130;43;01m\\n\u001b[39;49;00m\u001b[38;5;124;43m        self.play(b_links.animate.put_start_and_end_on(b_links.get_start(), b_links.get_end()+2.2*RIGHT))\u001b[39;49m\u001b[38;5;130;43;01m\\n\u001b[39;49;00m\u001b[38;5;124;43m        f_oben = MathTex(r\u001b[39;49m\u001b[38;5;124;43m\"\u001b[39;49m\u001b[38;5;130;43;01m\\\\\u001b[39;49;00m\u001b[38;5;124;43mcdot 3600\u001b[39;49m\u001b[38;5;124;43m\"\u001b[39;49m\u001b[38;5;124;43m, color=WHITE, font_size=120).next_to(z_oben, RIGHT)\u001b[39;49m\u001b[38;5;130;43;01m\\n\u001b[39;49;00m\u001b[38;5;124;43m        self.play(Write(f_oben))\u001b[39;49m\u001b[38;5;130;43;01m\\n\u001b[39;49;00m\u001b[38;5;124;43m        self.wait(2)\u001b[39;49m\u001b[38;5;130;43;01m\\n\u001b[39;49;00m\u001b[38;5;124;43m        \u001b[39;49m\u001b[38;5;130;43;01m\\n\u001b[39;49;00m\u001b[38;5;124;43m        vg2 = VGroup(z_oben, f_oben)\u001b[39;49m\u001b[38;5;130;43;01m\\n\u001b[39;49;00m\u001b[38;5;124;43m        \u001b[39;49m\u001b[38;5;130;43;01m\\n\u001b[39;49;00m\u001b[38;5;124;43m        self.play(Unwrite(vg2, run_time=0.5))      \u001b[39;49m\u001b[38;5;130;43;01m\\n\u001b[39;49;00m\u001b[38;5;124;43m        self.play(b_links.animate.put_start_and_end_on(b_links.get_start(), b_links.get_end()+3.1*LEFT))\u001b[39;49m\u001b[38;5;130;43;01m\\n\u001b[39;49;00m\u001b[38;5;124;43m        r_oben = MathTex(r\u001b[39;49m\u001b[38;5;124;43m\"\u001b[39;49m\u001b[38;5;124;43m486\u001b[39;49m\u001b[38;5;124;43m\"\u001b[39;49m\u001b[38;5;124;43m, color=WHITE, font_size=120).next_to(b_links, UP)\u001b[39;49m\u001b[38;5;130;43;01m\\n\u001b[39;49;00m\u001b[38;5;124;43m        self.play(Write(r_oben))\u001b[39;49m\u001b[38;5;130;43;01m\\n\u001b[39;49;00m\u001b[38;5;124;43m        self.wait(2)\u001b[39;49m\u001b[38;5;130;43;01m\\n\u001b[39;49;00m\u001b[38;5;130;43;01m\\n\u001b[39;49;00m\u001b[38;5;124;43m        vg3 = VGroup(r_oben, z_unten, b_links)\u001b[39;49m\u001b[38;5;130;43;01m\\n\u001b[39;49;00m\u001b[38;5;124;43m        \u001b[39;49m\u001b[38;5;130;43;01m\\n\u001b[39;49;00m\u001b[38;5;124;43m        b_rechts.clear_updaters()\u001b[39;49m\u001b[38;5;130;43;01m\\n\u001b[39;49;00m\u001b[38;5;124;43m        self.play(Unwrite(vg3, run_time=0.5))\u001b[39;49m\u001b[38;5;130;43;01m\\n\u001b[39;49;00m\u001b[38;5;124;43m        self.play(V.animate.shift(0.5*RIGHT))\u001b[39;49m\u001b[38;5;130;43;01m\\n\u001b[39;49;00m\u001b[38;5;124;43m        r_ges = MathTex(r\u001b[39;49m\u001b[38;5;124;43m\"\u001b[39;49m\u001b[38;5;124;43m4,46\u001b[39;49m\u001b[38;5;124;43m\"\u001b[39;49m\u001b[38;5;124;43m, color=WHITE, font_size=120).next_to(V, RIGHT, buff=0.5)\u001b[39;49m\u001b[38;5;130;43;01m\\n\u001b[39;49;00m\u001b[38;5;124;43m        self.play(Write(r_ges))\u001b[39;49m\u001b[38;5;130;43;01m\\n\u001b[39;49;00m\u001b[38;5;124;43m        self.wait()\u001b[39;49m\u001b[38;5;130;43;01m\\n\u001b[39;49;00m\u001b[38;5;124;43m        \u001b[39;49m\u001b[38;5;130;43;01m\\n\u001b[39;49;00m\u001b[38;5;124;43m        self.wait()\u001b[39;49m\u001b[38;5;130;43;01m\\n\u001b[39;49;00m\u001b[38;5;124;43m'\u001b[39;49m\u001b[43m)\u001b[49m\n",
      "File \u001b[1;32m~\\anaconda3\\envs\\manim\\lib\\site-packages\\IPython\\core\\interactiveshell.py:2358\u001b[0m, in \u001b[0;36mInteractiveShell.run_cell_magic\u001b[1;34m(self, magic_name, line, cell)\u001b[0m\n\u001b[0;32m   2356\u001b[0m \u001b[38;5;28;01mwith\u001b[39;00m \u001b[38;5;28mself\u001b[39m\u001b[38;5;241m.\u001b[39mbuiltin_trap:\n\u001b[0;32m   2357\u001b[0m     args \u001b[38;5;241m=\u001b[39m (magic_arg_s, cell)\n\u001b[1;32m-> 2358\u001b[0m     result \u001b[38;5;241m=\u001b[39m fn(\u001b[38;5;241m*\u001b[39margs, \u001b[38;5;241m*\u001b[39m\u001b[38;5;241m*\u001b[39mkwargs)\n\u001b[0;32m   2359\u001b[0m \u001b[38;5;28;01mreturn\u001b[39;00m result\n",
      "File \u001b[1;32m~\\anaconda3\\envs\\manim\\lib\\site-packages\\manim\\utils\\ipython_magic.py:150\u001b[0m, in \u001b[0;36mManimMagic.manim\u001b[1;34m(self, line, cell, local_ns)\u001b[0m\n\u001b[0;32m    148\u001b[0m     SceneClass \u001b[38;5;241m=\u001b[39m local_ns[config[\u001b[38;5;124m\"\u001b[39m\u001b[38;5;124mscene_names\u001b[39m\u001b[38;5;124m\"\u001b[39m][\u001b[38;5;241m0\u001b[39m]]\n\u001b[0;32m    149\u001b[0m     scene \u001b[38;5;241m=\u001b[39m SceneClass(renderer\u001b[38;5;241m=\u001b[39mrenderer)\n\u001b[1;32m--> 150\u001b[0m     \u001b[43mscene\u001b[49m\u001b[38;5;241;43m.\u001b[39;49m\u001b[43mrender\u001b[49m\u001b[43m(\u001b[49m\u001b[43m)\u001b[49m\n\u001b[0;32m    151\u001b[0m \u001b[38;5;28;01mfinally\u001b[39;00m:\n\u001b[0;32m    152\u001b[0m     \u001b[38;5;66;03m# Shader cache becomes invalid as the context is destroyed\u001b[39;00m\n\u001b[0;32m    153\u001b[0m     shader_program_cache\u001b[38;5;241m.\u001b[39mclear()\n",
      "File \u001b[1;32m~\\anaconda3\\envs\\manim\\lib\\site-packages\\manim\\scene\\scene.py:222\u001b[0m, in \u001b[0;36mScene.render\u001b[1;34m(self, preview)\u001b[0m\n\u001b[0;32m    220\u001b[0m \u001b[38;5;28mself\u001b[39m\u001b[38;5;241m.\u001b[39msetup()\n\u001b[0;32m    221\u001b[0m \u001b[38;5;28;01mtry\u001b[39;00m:\n\u001b[1;32m--> 222\u001b[0m     \u001b[38;5;28;43mself\u001b[39;49m\u001b[38;5;241;43m.\u001b[39;49m\u001b[43mconstruct\u001b[49m\u001b[43m(\u001b[49m\u001b[43m)\u001b[49m\n\u001b[0;32m    223\u001b[0m \u001b[38;5;28;01mexcept\u001b[39;00m EndSceneEarlyException:\n\u001b[0;32m    224\u001b[0m     \u001b[38;5;28;01mpass\u001b[39;00m\n",
      "File \u001b[1;32m<string>:51\u001b[0m, in \u001b[0;36mconstruct\u001b[1;34m(self)\u001b[0m\n",
      "File \u001b[1;32m~\\anaconda3\\envs\\manim\\lib\\site-packages\\manim\\scene\\scene.py:1071\u001b[0m, in \u001b[0;36mScene.wait\u001b[1;34m(self, duration, stop_condition, frozen_frame)\u001b[0m\n\u001b[0;32m   1045\u001b[0m \u001b[38;5;28;01mdef\u001b[39;00m \u001b[38;5;21mwait\u001b[39m(\n\u001b[0;32m   1046\u001b[0m     \u001b[38;5;28mself\u001b[39m,\n\u001b[0;32m   1047\u001b[0m     duration: \u001b[38;5;28mfloat\u001b[39m \u001b[38;5;241m=\u001b[39m DEFAULT_WAIT_TIME,\n\u001b[0;32m   1048\u001b[0m     stop_condition: Callable[[], \u001b[38;5;28mbool\u001b[39m] \u001b[38;5;241m|\u001b[39m \u001b[38;5;28;01mNone\u001b[39;00m \u001b[38;5;241m=\u001b[39m \u001b[38;5;28;01mNone\u001b[39;00m,\n\u001b[0;32m   1049\u001b[0m     frozen_frame: \u001b[38;5;28mbool\u001b[39m \u001b[38;5;241m|\u001b[39m \u001b[38;5;28;01mNone\u001b[39;00m \u001b[38;5;241m=\u001b[39m \u001b[38;5;28;01mNone\u001b[39;00m,\n\u001b[0;32m   1050\u001b[0m ):\n\u001b[0;32m   1051\u001b[0m     \u001b[38;5;124;03m\"\"\"Plays a \"no operation\" animation.\u001b[39;00m\n\u001b[0;32m   1052\u001b[0m \n\u001b[0;32m   1053\u001b[0m \u001b[38;5;124;03m    Parameters\u001b[39;00m\n\u001b[1;32m   (...)\u001b[0m\n\u001b[0;32m   1069\u001b[0m \u001b[38;5;124;03m    :class:`.Wait`, :meth:`.should_mobjects_update`\u001b[39;00m\n\u001b[0;32m   1070\u001b[0m \u001b[38;5;124;03m    \"\"\"\u001b[39;00m\n\u001b[1;32m-> 1071\u001b[0m     \u001b[38;5;28;43mself\u001b[39;49m\u001b[38;5;241;43m.\u001b[39;49m\u001b[43mplay\u001b[49m\u001b[43m(\u001b[49m\n\u001b[0;32m   1072\u001b[0m \u001b[43m        \u001b[49m\u001b[43mWait\u001b[49m\u001b[43m(\u001b[49m\n\u001b[0;32m   1073\u001b[0m \u001b[43m            \u001b[49m\u001b[43mrun_time\u001b[49m\u001b[38;5;241;43m=\u001b[39;49m\u001b[43mduration\u001b[49m\u001b[43m,\u001b[49m\n\u001b[0;32m   1074\u001b[0m \u001b[43m            \u001b[49m\u001b[43mstop_condition\u001b[49m\u001b[38;5;241;43m=\u001b[39;49m\u001b[43mstop_condition\u001b[49m\u001b[43m,\u001b[49m\n\u001b[0;32m   1075\u001b[0m \u001b[43m            \u001b[49m\u001b[43mfrozen_frame\u001b[49m\u001b[38;5;241;43m=\u001b[39;49m\u001b[43mfrozen_frame\u001b[49m\u001b[43m,\u001b[49m\n\u001b[0;32m   1076\u001b[0m \u001b[43m        \u001b[49m\u001b[43m)\u001b[49m\n\u001b[0;32m   1077\u001b[0m \u001b[43m    \u001b[49m\u001b[43m)\u001b[49m\n",
      "File \u001b[1;32m~\\anaconda3\\envs\\manim\\lib\\site-packages\\manim\\scene\\scene.py:1030\u001b[0m, in \u001b[0;36mScene.play\u001b[1;34m(self, subcaption, subcaption_duration, subcaption_offset, *args, **kwargs)\u001b[0m\n\u001b[0;32m   1027\u001b[0m     \u001b[38;5;28;01mreturn\u001b[39;00m\n\u001b[0;32m   1029\u001b[0m start_time \u001b[38;5;241m=\u001b[39m \u001b[38;5;28mself\u001b[39m\u001b[38;5;241m.\u001b[39mrenderer\u001b[38;5;241m.\u001b[39mtime\n\u001b[1;32m-> 1030\u001b[0m \u001b[38;5;28mself\u001b[39m\u001b[38;5;241m.\u001b[39mrenderer\u001b[38;5;241m.\u001b[39mplay(\u001b[38;5;28mself\u001b[39m, \u001b[38;5;241m*\u001b[39margs, \u001b[38;5;241m*\u001b[39m\u001b[38;5;241m*\u001b[39mkwargs)\n\u001b[0;32m   1031\u001b[0m run_time \u001b[38;5;241m=\u001b[39m \u001b[38;5;28mself\u001b[39m\u001b[38;5;241m.\u001b[39mrenderer\u001b[38;5;241m.\u001b[39mtime \u001b[38;5;241m-\u001b[39m start_time\n\u001b[0;32m   1032\u001b[0m \u001b[38;5;28;01mif\u001b[39;00m subcaption:\n",
      "File \u001b[1;32m~\\anaconda3\\envs\\manim\\lib\\site-packages\\manim\\renderer\\cairo_renderer.py:99\u001b[0m, in \u001b[0;36mCairoRenderer.play\u001b[1;34m(self, scene, *args, **kwargs)\u001b[0m\n\u001b[0;32m     96\u001b[0m     \u001b[38;5;28mself\u001b[39m\u001b[38;5;241m.\u001b[39mupdate_frame(scene, mobjects\u001b[38;5;241m=\u001b[39mscene\u001b[38;5;241m.\u001b[39mmoving_mobjects)\n\u001b[0;32m     97\u001b[0m     \u001b[38;5;66;03m# self.duration stands for the total run time of all the animations.\u001b[39;00m\n\u001b[0;32m     98\u001b[0m     \u001b[38;5;66;03m# In this case, as there is only a wait, it will be the length of the wait.\u001b[39;00m\n\u001b[1;32m---> 99\u001b[0m     \u001b[38;5;28;43mself\u001b[39;49m\u001b[38;5;241;43m.\u001b[39;49m\u001b[43mfreeze_current_frame\u001b[49m\u001b[43m(\u001b[49m\u001b[43mscene\u001b[49m\u001b[38;5;241;43m.\u001b[39;49m\u001b[43mduration\u001b[49m\u001b[43m)\u001b[49m\n\u001b[0;32m    100\u001b[0m \u001b[38;5;28;01melse\u001b[39;00m:\n\u001b[0;32m    101\u001b[0m     scene\u001b[38;5;241m.\u001b[39mplay_internal()\n",
      "File \u001b[1;32m~\\anaconda3\\envs\\manim\\lib\\site-packages\\manim\\renderer\\cairo_renderer.py:189\u001b[0m, in \u001b[0;36mCairoRenderer.freeze_current_frame\u001b[1;34m(self, duration)\u001b[0m\n\u001b[0;32m    181\u001b[0m \u001b[38;5;124;03m\"\"\"Adds a static frame to the movie for a given duration. The static frame is the current frame.\u001b[39;00m\n\u001b[0;32m    182\u001b[0m \n\u001b[0;32m    183\u001b[0m \u001b[38;5;124;03mParameters\u001b[39;00m\n\u001b[1;32m   (...)\u001b[0m\n\u001b[0;32m    186\u001b[0m \u001b[38;5;124;03m    [description]\u001b[39;00m\n\u001b[0;32m    187\u001b[0m \u001b[38;5;124;03m\"\"\"\u001b[39;00m\n\u001b[0;32m    188\u001b[0m dt \u001b[38;5;241m=\u001b[39m \u001b[38;5;241m1\u001b[39m \u001b[38;5;241m/\u001b[39m \u001b[38;5;28mself\u001b[39m\u001b[38;5;241m.\u001b[39mcamera\u001b[38;5;241m.\u001b[39mframe_rate\n\u001b[1;32m--> 189\u001b[0m \u001b[38;5;28;43mself\u001b[39;49m\u001b[38;5;241;43m.\u001b[39;49m\u001b[43madd_frame\u001b[49m\u001b[43m(\u001b[49m\n\u001b[0;32m    190\u001b[0m \u001b[43m    \u001b[49m\u001b[38;5;28;43mself\u001b[39;49m\u001b[38;5;241;43m.\u001b[39;49m\u001b[43mget_frame\u001b[49m\u001b[43m(\u001b[49m\u001b[43m)\u001b[49m\u001b[43m,\u001b[49m\n\u001b[0;32m    191\u001b[0m \u001b[43m    \u001b[49m\u001b[43mnum_frames\u001b[49m\u001b[38;5;241;43m=\u001b[39;49m\u001b[38;5;28;43mint\u001b[39;49m\u001b[43m(\u001b[49m\u001b[43mduration\u001b[49m\u001b[43m \u001b[49m\u001b[38;5;241;43m/\u001b[39;49m\u001b[43m \u001b[49m\u001b[43mdt\u001b[49m\u001b[43m)\u001b[49m\u001b[43m,\u001b[49m\n\u001b[0;32m    192\u001b[0m \u001b[43m\u001b[49m\u001b[43m)\u001b[49m\n",
      "File \u001b[1;32m~\\anaconda3\\envs\\manim\\lib\\site-packages\\manim\\renderer\\cairo_renderer.py:178\u001b[0m, in \u001b[0;36mCairoRenderer.add_frame\u001b[1;34m(self, frame, num_frames)\u001b[0m\n\u001b[0;32m    176\u001b[0m \u001b[38;5;28mself\u001b[39m\u001b[38;5;241m.\u001b[39mtime \u001b[38;5;241m+\u001b[39m\u001b[38;5;241m=\u001b[39m num_frames \u001b[38;5;241m*\u001b[39m dt\n\u001b[0;32m    177\u001b[0m \u001b[38;5;28;01mfor\u001b[39;00m _ \u001b[38;5;129;01min\u001b[39;00m \u001b[38;5;28mrange\u001b[39m(num_frames):\n\u001b[1;32m--> 178\u001b[0m     \u001b[38;5;28;43mself\u001b[39;49m\u001b[38;5;241;43m.\u001b[39;49m\u001b[43mfile_writer\u001b[49m\u001b[38;5;241;43m.\u001b[39;49m\u001b[43mwrite_frame\u001b[49m\u001b[43m(\u001b[49m\u001b[43mframe\u001b[49m\u001b[43m)\u001b[49m\n",
      "File \u001b[1;32m~\\anaconda3\\envs\\manim\\lib\\site-packages\\manim\\scene\\scene_file_writer.py:378\u001b[0m, in \u001b[0;36mSceneFileWriter.write_frame\u001b[1;34m(self, frame_or_renderer)\u001b[0m\n\u001b[0;32m    376\u001b[0m frame \u001b[38;5;241m=\u001b[39m frame_or_renderer\n\u001b[0;32m    377\u001b[0m \u001b[38;5;28;01mif\u001b[39;00m write_to_movie():\n\u001b[1;32m--> 378\u001b[0m     \u001b[38;5;28;43mself\u001b[39;49m\u001b[38;5;241;43m.\u001b[39;49m\u001b[43mwriting_process\u001b[49m\u001b[38;5;241;43m.\u001b[39;49m\u001b[43mstdin\u001b[49m\u001b[38;5;241;43m.\u001b[39;49m\u001b[43mwrite\u001b[49m\u001b[43m(\u001b[49m\u001b[43mframe\u001b[49m\u001b[38;5;241;43m.\u001b[39;49m\u001b[43mtobytes\u001b[49m\u001b[43m(\u001b[49m\u001b[43m)\u001b[49m\u001b[43m)\u001b[49m\n\u001b[0;32m    379\u001b[0m \u001b[38;5;28;01mif\u001b[39;00m is_png_format() \u001b[38;5;129;01mand\u001b[39;00m \u001b[38;5;129;01mnot\u001b[39;00m config[\u001b[38;5;124m\"\u001b[39m\u001b[38;5;124mdry_run\u001b[39m\u001b[38;5;124m\"\u001b[39m]:\n\u001b[0;32m    380\u001b[0m     \u001b[38;5;28mself\u001b[39m\u001b[38;5;241m.\u001b[39moutput_image_from_array(frame)\n",
      "\u001b[1;31mKeyboardInterrupt\u001b[0m: "
     ]
    }
   ],
   "source": [
    "%%manim -qh -t --format=mov --progress_bar display --verbosity ERROR Rechnung_T\n",
    "# Achtung! Format, Transparenter Hintergrund, Weiße Schrift\n",
    "\n",
    "class Rechnung_T(Scene):\n",
    "    def construct(self):\n",
    "        self.camera.background_color = WHITE\n",
    "            \n",
    "        V = MathTex(r\"\\dot{\\text{V}} = \", color=WHITE, font_size=120)\n",
    "        self.play(Write(V))\n",
    "        self.play(V.animate(rate_func=rate_functions.ease_out_bounce).shift(4*LEFT))\n",
    "\n",
    "        b_links = Line(start=V.get_right()+0.5*RIGHT, end=V.get_right()+3.5*RIGHT, color=WHITE)\n",
    "        z_oben = MathTex(r\"0.135\", color=WHITE, font_size=120).next_to(b_links, UP)\n",
    "        z_unten = MathTex(r\"109\", color=WHITE, font_size=120).next_to(b_links, DOWN)\n",
    "        \n",
    "        self.play(Write(z_oben))\n",
    "        self.play(Create(b_links, run_time=0.5))\n",
    "        self.play(Write(z_unten))\n",
    "        self.wait()\n",
    "           \n",
    "        b_rechts = always_redraw(lambda: Line(color=WHITE).put_start_and_end_on(b_links.get_end()+0.5*RIGHT, b_links.get_end()+2.5*RIGHT))\n",
    "        e_m = MathTex(r\"\\text{m}^3\", color=WHITE, font_size=120).next_to(b_rechts, UP)\n",
    "        e_s = always_redraw(lambda: Tex(r\"s\", color=WHITE, font_size=120).next_to(b_rechts, DOWN))\n",
    "        \n",
    "        self.play(Write(e_m))\n",
    "        self.play(Create(b_rechts, run_time=0.5))\n",
    "        self.play(Write(e_s))\n",
    "        self.wait()\n",
    "        \n",
    "        e_m.add_updater(lambda m: e_m.next_to(b_rechts, UP))\n",
    "          \n",
    "        self.play(Unwrite(e_s, run_time=0.5))\n",
    "\n",
    "        self.play(b_links.animate.put_start_and_end_on(b_links.get_start(), b_links.get_end()+0.5*RIGHT)) \n",
    "        \n",
    "        fac1 = MathTex(r\"\\cdot \\frac{1}{60}\", color=WHITE, font_size=50).next_to(z_unten, RIGHT)\n",
    "        self.play(Write(fac1))\n",
    "        \n",
    "        e_min = Tex(r\"min\", color=WHITE, font_size=120).next_to(b_rechts, DOWN)\n",
    "        self.play(Write(e_min))\n",
    "        self.wait(2)\n",
    "        \n",
    "        self.play(Unwrite(e_min, run_time=0.5))\n",
    "\n",
    "        self.play(b_links.animate.put_start_and_end_on(b_links.get_start(), b_links.get_end()+0.8*RIGHT)) \n",
    "    \n",
    "        fac2 = MathTex(r\"\\cdot \\frac{1}{60}\", color=WHITE, font_size=50).next_to(fac1, RIGHT)\n",
    "        self.play(TransformFromCopy(fac1, fac2))\n",
    "    \n",
    "        e_h = always_redraw(lambda: Tex(r\"h\", color=WHITE, font_size=120).next_to(b_rechts, DOWN))\n",
    "        self.play(Write(e_h))\n",
    "        self.wait(2)\n",
    "        \n",
    "        vg1 = VGroup(fac1, fac2)\n",
    "        \n",
    "        self.play(Unwrite(vg1, run_time=0.5))\n",
    "        self.play(b_links.animate.put_start_and_end_on(b_links.get_start(), b_links.get_end()+0.4*LEFT))\n",
    "        f_3600 = MathTex(r\"\\cdot \\frac{1}{3600}\", color=WHITE, font_size=50).next_to(z_unten, RIGHT)\n",
    "        self.play(Write(f_3600))\n",
    "        self.wait(2)\n",
    "        \n",
    "        \n",
    "        self.play(Unwrite(f_3600, run_time=0.5))\n",
    "        self.play(b_links.animate.put_start_and_end_on(b_links.get_start(), b_links.get_end()+2.2*RIGHT))\n",
    "        f_oben = MathTex(r\"\\cdot 3600\", color=WHITE, font_size=120).next_to(z_oben, RIGHT)\n",
    "        self.play(Write(f_oben))\n",
    "        self.wait(2)\n",
    "        \n",
    "        vg2 = VGroup(z_oben, f_oben)\n",
    "        \n",
    "        self.play(Unwrite(vg2, run_time=0.5))      \n",
    "        self.play(b_links.animate.put_start_and_end_on(b_links.get_start(), b_links.get_end()+3.1*LEFT))\n",
    "        r_oben = MathTex(r\"486\", color=WHITE, font_size=120).next_to(b_links, UP)\n",
    "        self.play(Write(r_oben))\n",
    "        self.wait(2)\n",
    "\n",
    "        vg3 = VGroup(r_oben, z_unten, b_links)\n",
    "        \n",
    "        b_rechts.clear_updaters()\n",
    "        self.play(Unwrite(vg3, run_time=0.5))\n",
    "        self.play(V.animate.shift(0.5*RIGHT))\n",
    "        r_ges = MathTex(r\"4,46\", color=WHITE, font_size=120).next_to(V, RIGHT, buff=0.5)\n",
    "        self.play(Write(r_ges))\n",
    "        self.wait()\n",
    "        \n",
    "        self.wait()"
   ]
  },
  {
   "cell_type": "code",
   "execution_count": null,
   "id": "d942733e",
   "metadata": {
    "scrolled": false
   },
   "outputs": [
    {
     "ename": "",
     "evalue": "",
     "output_type": "error",
     "traceback": [
      "\u001b[1;31mRunning cells with 'ManimCE_env' requires the ipykernel package.\n",
      "\u001b[1;31mRun the following command to install 'ipykernel' into the Python environment. \n",
      "\u001b[1;31mCommand: 'conda install -n ManimCE_env ipykernel --update-deps --force-reinstall'"
     ]
    }
   ],
   "source": [
    "%%manim -qh -t --format=mov --progress_bar display --verbosity ERROR RechnungStyle2_T\n",
    "# Achtung! Format, Transparenter Hintergrund, Weiße Schrift\n",
    "\n",
    "class RechnungStyle2_T(Scene):\n",
    "    def construct(self):\n",
    "        self.camera.background_color = WHITE\n",
    "\n",
    "        V = MathTex(\"\\\\dot{\\\\text{V}}\", \" = \", \"\\\\dfrac{0.135}{109}\\\\,\", \"\\\\dfrac{\\\\text{m}^3}{\\\\text{s}}\", \" = \", color=WHITE, font_size=78).shift(4*LEFT + 2.5*UP)\n",
    "        V_copy = V.copy()\n",
    "        \n",
    "        b_links = Line(start=V[4].get_right()+0.5*RIGHT, end=V[4].get_right()+2.5*RIGHT, color=WHITE)\n",
    "        z_oben = MathTex(r\"0.135\", color=WHITE, font_size=78).next_to(b_links, 1.2*UP)\n",
    "        z_unten = MathTex(r\"109\", color=WHITE, font_size=78).next_to(b_links, DOWN)\n",
    "        b_links.put_start_and_end_on(b_links.get_start(), b_links.get_end()+0.4*RIGHT)\n",
    "        fac1 = MathTex(r\"\\cdot \\frac{1}{60}\", color=WHITE, font_size=40).next_to(z_unten, RIGHT)\n",
    "#0        \n",
    "        self.play(Write(V))\n",
    "        self.wait(2)\n",
    "        \n",
    "#1        \n",
    "        self.play(Write(z_oben))\n",
    "        self.play(Create(b_links, run_time=0.5))\n",
    "        self.play(Write(z_unten))\n",
    "        \n",
    "        b_rechts = always_redraw(lambda: Line(color=WHITE).put_start_and_end_on(b_links.get_end()+0.5*RIGHT, b_links.get_end()+2*RIGHT))\n",
    "        e_m = MathTex(r\"\\text{m}^3\", color=WHITE, font_size=78).next_to(b_rechts, 1.2*UP)\n",
    "        e_min = Tex(r\"min\", color=WHITE, font_size=78).next_to(b_rechts, DOWN)\n",
    "        \n",
    "        self.play(Write(e_m))\n",
    "        self.play(Create(b_rechts, run_time=0.5))\n",
    "        self.wait()\n",
    "        self.play(Write(fac1))\n",
    "        self.play(Write(e_min))\n",
    "        self.wait()\n",
    "        \n",
    "#2      \n",
    "        eq2 = MathTex(\"=\", color=WHITE, font_size=78).next_to(V[4], 8.3*DOWN)\n",
    "        b_links2 = b_links.copy().next_to(b_links, 9*DOWN)\n",
    "        z_oben2 = z_oben.copy().next_to(b_links2, 1.2*UP)\n",
    "        z_unten2 = z_unten.copy().next_to(b_links2, DOWN)\n",
    "        b_links2.put_start_and_end_on(b_links2.get_start(), b_links2.get_end()+0.9*RIGHT)\n",
    "        fac2 = fac1.copy().next_to(z_unten2, RIGHT)\n",
    "        fac3 = fac1.copy().next_to(fac2, 0.5*RIGHT)\n",
    "        \n",
    "        self.play(TransformFromCopy(V[4], eq2), TransformFromCopy(z_oben, z_oben2), Create(b_links2), TransformFromCopy(z_unten, z_unten2), TransformFromCopy(fac1, fac2))\n",
    "        \n",
    "        b_rechts2 = b_rechts.copy().put_start_and_end_on(b_links2.get_end()+0.5*RIGHT, b_links2.get_end()+1.5*RIGHT)\n",
    "        e_m2 = e_m.copy().next_to(b_rechts2, 1.2*UP)\n",
    "        e_h = Tex(r\"h\", color=WHITE, font_size=78).next_to(b_rechts2, DOWN)\n",
    "        \n",
    "        self.play(TransformFromCopy(e_m, e_m2), Create(b_rechts2))\n",
    "        self.wait()\n",
    "        self.play(TransformFromCopy(fac2, fac3))\n",
    "        self.play(Write(e_h))\n",
    "        self.wait()\n",
    "        \n",
    "#3\n",
    "        eq3 = eq2.copy().next_to(eq2, 8.3*DOWN)\n",
    "        b_links3 = b_links2.copy().next_to(b_links2, 9*DOWN)\n",
    "        b_links3.put_start_and_end_on(b_links3.get_start(), b_links3.get_end()-0.9*RIGHT)\n",
    "        z_oben3 = z_oben2.copy().next_to(b_links3, 1.2*UP)\n",
    "        z_unten3 = z_unten2.copy().next_to(b_links3, DOWN)\n",
    "        b_links3.put_start_and_end_on(b_links3.get_start(), b_links3.get_end()+0.6*RIGHT)\n",
    "        \n",
    "        vg3 = VGroup(fac2, fac3)\n",
    "        fac4 = MathTex(r\"\\cdot \\frac{1}{3600}\", color=WHITE, font_size=40).next_to(z_unten3, RIGHT)\n",
    "        \n",
    "        \n",
    "        self.play(TransformFromCopy(eq2, eq3), TransformFromCopy(z_oben2, z_oben3), Create(b_links3), TransformFromCopy(z_unten2, z_unten3))\n",
    "        self.play(TransformFromCopy(vg3, fac4))\n",
    "    \n",
    "        b_rechts3 = b_rechts2.copy().put_start_and_end_on(b_links3.get_end()+0.5*RIGHT, b_links3.get_end()+1.5*RIGHT)\n",
    "        e_m3 = e_m.copy().next_to(b_rechts3, 1.2*UP)\n",
    "        e_h3 = e_h.copy().next_to(b_rechts3, DOWN)\n",
    "        \n",
    "        self.play(TransformFromCopy(e_m2, e_m3), Create(b_rechts3), TransformFromCopy(e_h, e_h3))\n",
    "        self.wait()\n",
    "\n",
    "#4\n",
    "        b_rechts3.add_updater(lambda m: b_rechts3.put_start_and_end_on(b_links3.get_end()+0.5*RIGHT, b_links3.get_end()+1.5*RIGHT))\n",
    "        e_m3.add_updater(lambda m: e_m3.next_to(b_rechts3, 1.2*UP))\n",
    "        e_h3.add_updater(lambda m: e_h3.next_to(b_rechts3, DOWN))\n",
    "        \n",
    "        \n",
    "        self.play(b_links3.animate.put_start_and_end_on(b_links3.get_start(), b_links3.get_end()+1.2*RIGHT))\n",
    "        fac5 = MathTex(r\"\\cdot 3600\", color=WHITE, font_size=78).next_to(z_oben3, RIGHT)\n",
    "    \n",
    "        self.play(Unwrite(fac4, run_time=0.5))\n",
    "        self.play(Write(fac5))\n",
    "        self.wait()\n",
    "        \n",
    "#5\n",
    "        vg5 = VGroup(z_oben3, fac5)\n",
    "        self.play(Unwrite(vg5, run_time=0.5))\n",
    "        self.play(b_links3.animate.put_start_and_end_on(b_links3.get_start(), b_links3.get_end()+2.8*LEFT), z_unten3.animate.shift(0.5*LEFT))\n",
    "        res5 = MathTex(r\"486\", color=WHITE, font_size=78).next_to(b_links3, 1.2*UP)\n",
    "        self.play(Write(res5))\n",
    "        self.wait()\n",
    "\n",
    "#6\n",
    "        vg6 = VGroup(res5, z_unten3, b_links3)\n",
    "        b_rechts3.clear_updaters()\n",
    "        self.play(Unwrite(vg6, run_time=0.5))\n",
    "        self.play(b_rechts3.animate.shift(0.3*LEFT))\n",
    "        res6 = MathTex(r\"4.46\", color=WHITE, font_size=78).next_to(b_rechts3, LEFT)\n",
    "        self.play(Write(res6))\n",
    "        self.wait()\n",
    "\n",
    "#7\n",
    "        vg7 = VGroup(z_oben, z_oben2, z_unten, z_unten2, b_links, b_links2, fac1, fac2, fac3, e_m, e_m2, e_min, e_h, eq2, eq3, b_rechts2, b_rechts)\n",
    "        self.play(FadeOut(vg7))\n",
    "        vg8 = VGroup(res6, b_rechts3)\n",
    "        self.play(vg8.animate.move_to(ORIGIN+0.5*RIGHT), V.animate.move_to(ORIGIN+4*LEFT))\n",
    "        \n",
    "        \n",
    "        \n",
    "        \n",
    "        self.wait()\n"
   ]
  },
  {
   "cell_type": "code",
   "execution_count": null,
   "id": "18db91bb",
   "metadata": {},
   "outputs": [],
   "source": []
  }
 ],
 "metadata": {
  "kernelspec": {
   "display_name": "ManimCE_env",
   "language": "python",
   "name": "python3"
  },
  "language_info": {
   "codemirror_mode": {
    "name": "ipython",
    "version": 3
   },
   "file_extension": ".py",
   "mimetype": "text/x-python",
   "name": "python",
   "nbconvert_exporter": "python",
   "pygments_lexer": "ipython3",
   "version": "3.11.0"
  },
  "vscode": {
   "interpreter": {
    "hash": "ad0dedcfa5342755c19a53535a2d248bace8cfa5c8ddd3ce09fc427837393f02"
   }
  }
 },
 "nbformat": 4,
 "nbformat_minor": 5
}
